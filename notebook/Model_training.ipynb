{
 "cells": [
  {
   "cell_type": "markdown",
   "id": "5840ccfa",
   "metadata": {},
   "source": [
    "# Model Training "
   ]
  },
  {
   "cell_type": "markdown",
   "id": "8525516a",
   "metadata": {},
   "source": [
    "## 1. Import Data and required packages"
   ]
  },
  {
   "cell_type": "code",
   "execution_count": 1,
   "id": "4017739e",
   "metadata": {},
   "outputs": [],
   "source": [
    "import numpy as np\n",
    "import pandas as pd\n",
    "import matplotlib.pyplot as plt\n",
    "import seaborn as sns\n",
    "# Modelling packages\n",
    "from sklearn.metrics import mean_squared_error, r2_score, mean_absolute_error\n",
    "from sklearn.neighbors import KNeighborsRegressor\n",
    "from sklearn.tree import DecisionTreeRegressor\n",
    "from sklearn.ensemble import RandomForestRegressor, AdaBoostRegressor\n",
    "from sklearn.svm import SVR\n",
    "from sklearn.linear_model import LinearRegression, Ridge, Lasso\n",
    "from sklearn.model_selection import RandomizedSearchCV, train_test_split\n",
    "from xgboost import XGBRegressor\n",
    "import warnings"
   ]
  },
  {
   "cell_type": "code",
   "execution_count": 2,
   "id": "f3c69a8b",
   "metadata": {},
   "outputs": [],
   "source": [
    "df = pd.read_csv('data/StudentsPerformance.csv')"
   ]
  },
  {
   "cell_type": "code",
   "execution_count": 3,
   "id": "8a34d2e0",
   "metadata": {},
   "outputs": [
    {
     "data": {
      "text/html": [
       "<div>\n",
       "<style scoped>\n",
       "    .dataframe tbody tr th:only-of-type {\n",
       "        vertical-align: middle;\n",
       "    }\n",
       "\n",
       "    .dataframe tbody tr th {\n",
       "        vertical-align: top;\n",
       "    }\n",
       "\n",
       "    .dataframe thead th {\n",
       "        text-align: right;\n",
       "    }\n",
       "</style>\n",
       "<table border=\"1\" class=\"dataframe\">\n",
       "  <thead>\n",
       "    <tr style=\"text-align: right;\">\n",
       "      <th></th>\n",
       "      <th>gender</th>\n",
       "      <th>race/ethnicity</th>\n",
       "      <th>parental level of education</th>\n",
       "      <th>lunch</th>\n",
       "      <th>test preparation course</th>\n",
       "      <th>math score</th>\n",
       "      <th>reading score</th>\n",
       "      <th>writing score</th>\n",
       "    </tr>\n",
       "  </thead>\n",
       "  <tbody>\n",
       "    <tr>\n",
       "      <th>0</th>\n",
       "      <td>female</td>\n",
       "      <td>group B</td>\n",
       "      <td>bachelor's degree</td>\n",
       "      <td>standard</td>\n",
       "      <td>none</td>\n",
       "      <td>72</td>\n",
       "      <td>72</td>\n",
       "      <td>74</td>\n",
       "    </tr>\n",
       "    <tr>\n",
       "      <th>1</th>\n",
       "      <td>female</td>\n",
       "      <td>group C</td>\n",
       "      <td>some college</td>\n",
       "      <td>standard</td>\n",
       "      <td>completed</td>\n",
       "      <td>69</td>\n",
       "      <td>90</td>\n",
       "      <td>88</td>\n",
       "    </tr>\n",
       "    <tr>\n",
       "      <th>2</th>\n",
       "      <td>female</td>\n",
       "      <td>group B</td>\n",
       "      <td>master's degree</td>\n",
       "      <td>standard</td>\n",
       "      <td>none</td>\n",
       "      <td>90</td>\n",
       "      <td>95</td>\n",
       "      <td>93</td>\n",
       "    </tr>\n",
       "    <tr>\n",
       "      <th>3</th>\n",
       "      <td>male</td>\n",
       "      <td>group A</td>\n",
       "      <td>associate's degree</td>\n",
       "      <td>free/reduced</td>\n",
       "      <td>none</td>\n",
       "      <td>47</td>\n",
       "      <td>57</td>\n",
       "      <td>44</td>\n",
       "    </tr>\n",
       "    <tr>\n",
       "      <th>4</th>\n",
       "      <td>male</td>\n",
       "      <td>group C</td>\n",
       "      <td>some college</td>\n",
       "      <td>standard</td>\n",
       "      <td>none</td>\n",
       "      <td>76</td>\n",
       "      <td>78</td>\n",
       "      <td>75</td>\n",
       "    </tr>\n",
       "  </tbody>\n",
       "</table>\n",
       "</div>"
      ],
      "text/plain": [
       "   gender race/ethnicity parental level of education         lunch  \\\n",
       "0  female        group B           bachelor's degree      standard   \n",
       "1  female        group C                some college      standard   \n",
       "2  female        group B             master's degree      standard   \n",
       "3    male        group A          associate's degree  free/reduced   \n",
       "4    male        group C                some college      standard   \n",
       "\n",
       "  test preparation course  math score  reading score  writing score  \n",
       "0                    none          72             72             74  \n",
       "1               completed          69             90             88  \n",
       "2                    none          90             95             93  \n",
       "3                    none          47             57             44  \n",
       "4                    none          76             78             75  "
      ]
     },
     "execution_count": 3,
     "metadata": {},
     "output_type": "execute_result"
    }
   ],
   "source": [
    "df.head()"
   ]
  },
  {
   "cell_type": "markdown",
   "id": "1c1b6963",
   "metadata": {},
   "source": [
    "### Preparing X and Y variables"
   ]
  },
  {
   "cell_type": "code",
   "execution_count": 4,
   "id": "022032c8",
   "metadata": {},
   "outputs": [],
   "source": [
    "X = df.drop(columns = ['math score'], axis = 1)\n",
    "Y = df['math score']"
   ]
  },
  {
   "cell_type": "code",
   "execution_count": 5,
   "id": "2dbfcbc0",
   "metadata": {},
   "outputs": [
    {
     "data": {
      "text/html": [
       "<div>\n",
       "<style scoped>\n",
       "    .dataframe tbody tr th:only-of-type {\n",
       "        vertical-align: middle;\n",
       "    }\n",
       "\n",
       "    .dataframe tbody tr th {\n",
       "        vertical-align: top;\n",
       "    }\n",
       "\n",
       "    .dataframe thead th {\n",
       "        text-align: right;\n",
       "    }\n",
       "</style>\n",
       "<table border=\"1\" class=\"dataframe\">\n",
       "  <thead>\n",
       "    <tr style=\"text-align: right;\">\n",
       "      <th></th>\n",
       "      <th>gender</th>\n",
       "      <th>race/ethnicity</th>\n",
       "      <th>parental level of education</th>\n",
       "      <th>lunch</th>\n",
       "      <th>test preparation course</th>\n",
       "      <th>reading score</th>\n",
       "      <th>writing score</th>\n",
       "    </tr>\n",
       "  </thead>\n",
       "  <tbody>\n",
       "    <tr>\n",
       "      <th>0</th>\n",
       "      <td>female</td>\n",
       "      <td>group B</td>\n",
       "      <td>bachelor's degree</td>\n",
       "      <td>standard</td>\n",
       "      <td>none</td>\n",
       "      <td>72</td>\n",
       "      <td>74</td>\n",
       "    </tr>\n",
       "    <tr>\n",
       "      <th>1</th>\n",
       "      <td>female</td>\n",
       "      <td>group C</td>\n",
       "      <td>some college</td>\n",
       "      <td>standard</td>\n",
       "      <td>completed</td>\n",
       "      <td>90</td>\n",
       "      <td>88</td>\n",
       "    </tr>\n",
       "    <tr>\n",
       "      <th>2</th>\n",
       "      <td>female</td>\n",
       "      <td>group B</td>\n",
       "      <td>master's degree</td>\n",
       "      <td>standard</td>\n",
       "      <td>none</td>\n",
       "      <td>95</td>\n",
       "      <td>93</td>\n",
       "    </tr>\n",
       "    <tr>\n",
       "      <th>3</th>\n",
       "      <td>male</td>\n",
       "      <td>group A</td>\n",
       "      <td>associate's degree</td>\n",
       "      <td>free/reduced</td>\n",
       "      <td>none</td>\n",
       "      <td>57</td>\n",
       "      <td>44</td>\n",
       "    </tr>\n",
       "    <tr>\n",
       "      <th>4</th>\n",
       "      <td>male</td>\n",
       "      <td>group C</td>\n",
       "      <td>some college</td>\n",
       "      <td>standard</td>\n",
       "      <td>none</td>\n",
       "      <td>78</td>\n",
       "      <td>75</td>\n",
       "    </tr>\n",
       "  </tbody>\n",
       "</table>\n",
       "</div>"
      ],
      "text/plain": [
       "   gender race/ethnicity parental level of education         lunch  \\\n",
       "0  female        group B           bachelor's degree      standard   \n",
       "1  female        group C                some college      standard   \n",
       "2  female        group B             master's degree      standard   \n",
       "3    male        group A          associate's degree  free/reduced   \n",
       "4    male        group C                some college      standard   \n",
       "\n",
       "  test preparation course  reading score  writing score  \n",
       "0                    none             72             74  \n",
       "1               completed             90             88  \n",
       "2                    none             95             93  \n",
       "3                    none             57             44  \n",
       "4                    none             78             75  "
      ]
     },
     "execution_count": 5,
     "metadata": {},
     "output_type": "execute_result"
    }
   ],
   "source": [
    "X.head()"
   ]
  },
  {
   "cell_type": "code",
   "execution_count": 6,
   "id": "587eb1d3",
   "metadata": {},
   "outputs": [
    {
     "data": {
      "text/plain": [
       "0    72\n",
       "1    69\n",
       "2    90\n",
       "3    47\n",
       "4    76\n",
       "Name: math score, dtype: int64"
      ]
     },
     "execution_count": 6,
     "metadata": {},
     "output_type": "execute_result"
    }
   ],
   "source": [
    "Y.head()"
   ]
  },
  {
   "cell_type": "markdown",
   "id": "a6141b27",
   "metadata": {},
   "source": [
    "### Transform categorical features"
   ]
  },
  {
   "cell_type": "code",
   "execution_count": 7,
   "id": "cab09437",
   "metadata": {},
   "outputs": [],
   "source": [
    "num_features = X.select_dtypes(exclude='object').columns\n",
    "cat_features = X.select_dtypes(include='object').columns\n",
    "\n",
    "from sklearn.preprocessing import OneHotEncoder, StandardScaler\n",
    "from sklearn.compose import ColumnTransformer\n",
    "\n",
    "numeric_transformer = StandardScaler()\n",
    "oh_encoder = OneHotEncoder()\n",
    "\n",
    "preprocessor = ColumnTransformer(\n",
    "    [\n",
    "        (\"OneHotEncoder\", oh_encoder, cat_features),\n",
    "        (\"StandardScaler\", numeric_transformer, num_features),\n",
    "    ]\n",
    ")\n"
   ]
  },
  {
   "cell_type": "code",
   "execution_count": 8,
   "id": "d0a6bfba",
   "metadata": {},
   "outputs": [],
   "source": [
    "X = preprocessor.fit_transform(X)"
   ]
  },
  {
   "cell_type": "code",
   "execution_count": 9,
   "id": "5f2abfd7",
   "metadata": {},
   "outputs": [
    {
     "data": {
      "text/plain": [
       "(1000, 19)"
      ]
     },
     "execution_count": 9,
     "metadata": {},
     "output_type": "execute_result"
    }
   ],
   "source": [
    "X.shape"
   ]
  },
  {
   "cell_type": "code",
   "execution_count": 10,
   "id": "7bfaa9a1",
   "metadata": {},
   "outputs": [
    {
     "data": {
      "text/plain": [
       "((800, 19), (200, 19), (800,), (200,))"
      ]
     },
     "execution_count": 10,
     "metadata": {},
     "output_type": "execute_result"
    }
   ],
   "source": [
    "# separate data into training and testing sets\n",
    "\n",
    "X_train, X_test, Y_train, Y_test = train_test_split(X,Y, test_size=0.2, random_state=42)\n",
    "X_train.shape, X_test.shape, Y_train.shape, Y_test.shape"
   ]
  },
  {
   "cell_type": "markdown",
   "id": "fc3d3953",
   "metadata": {},
   "source": [
    "## Create an evaluation fucntion to give all metrics after model training"
   ]
  },
  {
   "cell_type": "code",
   "execution_count": 11,
   "id": "a6f9fec4",
   "metadata": {},
   "outputs": [],
   "source": [
    "def evaluate_regression_models(true, predicted):\n",
    "    mae = mean_absolute_error(true, predicted)\n",
    "    mse = mean_squared_error(true, predicted)\n",
    "    rmse = np.sqrt(mse)\n",
    "    r2squared = r2_score(true, predicted)\n",
    "    return {\n",
    "        'MAE': mae,\n",
    "        'MSE': mse,\n",
    "        'RMSE': rmse,\n",
    "        'R2_Squared': r2squared\n",
    "    }\n",
    "\n"
   ]
  },
  {
   "cell_type": "code",
   "execution_count": null,
   "id": "7c41cac1",
   "metadata": {},
   "outputs": [
    {
     "name": "stdout",
     "output_type": "stream",
     "text": [
      "Model: Linear Regression\n",
      "Train Metrics: {'MAE': 4.214763142474851, 'MSE': 29.095169866715494, 'RMSE': np.float64(5.393993869732843), 'R2_Squared': 0.8804332983749564}\n",
      "Test Metrics: {'MAE': 4.214763142474851, 'MSE': 29.095169866715494, 'RMSE': np.float64(5.393993869732843), 'R2_Squared': 0.8804332983749564}\n",
      "--------------------------------------------------\n",
      "Model: Ridge Regression\n",
      "Train Metrics: {'MAE': 4.211100688014261, 'MSE': 29.056272192348263, 'RMSE': np.float64(5.390387016935636), 'R2_Squared': 0.880593148502874}\n",
      "Test Metrics: {'MAE': 4.211100688014261, 'MSE': 29.056272192348263, 'RMSE': np.float64(5.390387016935636), 'R2_Squared': 0.880593148502874}\n",
      "--------------------------------------------------\n",
      "Model: Lasso Regression\n",
      "Train Metrics: {'MAE': 5.157881810347763, 'MSE': 42.5064168384116, 'RMSE': np.float64(6.519694535667419), 'R2_Squared': 0.8253197323627853}\n",
      "Test Metrics: {'MAE': 5.157881810347763, 'MSE': 42.5064168384116, 'RMSE': np.float64(6.519694535667419), 'R2_Squared': 0.8253197323627853}\n",
      "--------------------------------------------------\n",
      "Model: K-Nearest Neighbors\n",
      "Train Metrics: {'MAE': 5.627999999999999, 'MSE': 52.6388, 'RMSE': np.float64(7.255260160738552), 'R2_Squared': 0.7836806685669011}\n",
      "Test Metrics: {'MAE': 5.627999999999999, 'MSE': 52.6388, 'RMSE': np.float64(7.255260160738552), 'R2_Squared': 0.7836806685669011}\n",
      "--------------------------------------------------\n",
      "Model: Decision Tree Regressor\n",
      "Train Metrics: {'MAE': 6.325, 'MSE': 63.625, 'RMSE': np.float64(7.976528066771908), 'R2_Squared': 0.7385328415079577}\n",
      "Test Metrics: {'MAE': 6.325, 'MSE': 63.625, 'RMSE': np.float64(7.976528066771908), 'R2_Squared': 0.7385328415079577}\n",
      "--------------------------------------------------\n",
      "Model: Random Forest Regressor\n",
      "Train Metrics: {'MAE': 4.623316666666667, 'MSE': 35.18816711111111, 'RMSE': np.float64(5.931961489348284), 'R2_Squared': 0.8553941050359865}\n",
      "Test Metrics: {'MAE': 4.623316666666667, 'MSE': 35.18816711111111, 'RMSE': np.float64(5.931961489348284), 'R2_Squared': 0.8553941050359865}\n",
      "--------------------------------------------------\n",
      "Model: AdaBoost Regressor\n",
      "Train Metrics: {'MAE': 4.713334460486951, 'MSE': 36.951160481218096, 'RMSE': np.float64(6.078746620909453), 'R2_Squared': 0.8481490776580347}\n",
      "Test Metrics: {'MAE': 4.713334460486951, 'MSE': 36.951160481218096, 'RMSE': np.float64(6.078746620909453), 'R2_Squared': 0.8481490776580347}\n",
      "--------------------------------------------------\n",
      "Model: Support Vector Regressor\n",
      "Train Metrics: {'MAE': 5.4015392444969965, 'MSE': 66.0420049374565, 'RMSE': np.float64(8.126623218622633), 'R2_Squared': 0.7286001513223704}\n",
      "Test Metrics: {'MAE': 5.4015392444969965, 'MSE': 66.0420049374565, 'RMSE': np.float64(8.126623218622633), 'R2_Squared': 0.7286001513223704}\n",
      "--------------------------------------------------\n",
      "Model: XGBoost Regressor\n",
      "Train Metrics: {'MAE': 5.057730674743652, 'MSE': 41.90370559692383, 'RMSE': np.float64(6.47330716071189), 'R2_Squared': 0.8277965784072876}\n",
      "Test Metrics: {'MAE': 5.057730674743652, 'MSE': 41.90370559692383, 'RMSE': np.float64(6.47330716071189), 'R2_Squared': 0.8277965784072876}\n",
      "--------------------------------------------------\n"
     ]
    }
   ],
   "source": [
    "models = {\n",
    "    \"Linear Regression\": LinearRegression(),\n",
    "    \"Ridge Regression\": Ridge(),\n",
    "    \"Lasso Regression\": Lasso(),\n",
    "    \"K-Nearest Neighbors\": KNeighborsRegressor(),\n",
    "    \"Decision Tree\": DecisionTreeRegressor(),\n",
    "    \"Random Forest\": RandomForestRegressor(),\n",
    "    \"Support Vector Regressor\": SVR(),\n",
    "    \"AdaBoost Regressor\": AdaBoostRegressor(),\n",
    "    \"XGBoost Regressor\": XGBRegressor()\n",
    "}\n",
    "\n",
    "model_list = []\n",
    "r2_list = []\n",
    "\n",
    "for i in range(len(list(models))):\n",
    "    model = list(models.keys())[i]\n",
    "    model_name = list(models.values())[i]\n",
    "    \n",
    "    # Train the model and predict\n",
    "    model.fit(X_train, Y_train)\n",
    "    Y_train_pred = model.predict(X_train)\n",
    "    Y_test_pred = model.predict(X_test)    \n",
    "    \n",
    "    # Evaluate train and test dataset\n",
    "    train_metrics = evaluate_regression_models(Y_test, Y_test_pred)\n",
    "    test_metrics = evaluate_regression_models(Y_test, Y_test_pred)\n",
    "    print(f\"Model: {model_name}\")\n",
    "    print(f\"Train Metrics: {train_metrics}\")\n",
    "    print(f\"Test Metrics: {test_metrics}\")\n",
    "    print(\"-\"*50)\n",
    "    model_list.append(model_name)\n",
    "    r2_list.append(test_metrics['R2_Squared'])      "
   ]
  },
  {
   "cell_type": "code",
   "execution_count": null,
   "id": "b79333ff",
   "metadata": {},
   "outputs": [],
   "source": []
  }
 ],
 "metadata": {
  "kernelspec": {
   "display_name": ".venv",
   "language": "python",
   "name": "python3"
  },
  "language_info": {
   "codemirror_mode": {
    "name": "ipython",
    "version": 3
   },
   "file_extension": ".py",
   "mimetype": "text/x-python",
   "name": "python",
   "nbconvert_exporter": "python",
   "pygments_lexer": "ipython3",
   "version": "3.14.0"
  }
 },
 "nbformat": 4,
 "nbformat_minor": 5
}
